{
 "nbformat": 4,
 "nbformat_minor": 2,
 "metadata": {
  "language_info": {
   "name": "python",
   "codemirror_mode": {
    "name": "ipython",
    "version": 3
   },
   "version": "3.6.6-final"
  },
  "orig_nbformat": 2,
  "file_extension": ".py",
  "mimetype": "text/x-python",
  "name": "python",
  "npconvert_exporter": "python",
  "pygments_lexer": "ipython3",
  "version": 3,
  "kernelspec": {
   "name": "python36664bit15235e09702646438db8ea77f8e4997d",
   "display_name": "Python 3.6.6 64-bit"
  }
 },
 "cells": [
  {
   "cell_type": "code",
   "execution_count": 90,
   "metadata": {},
   "outputs": [
    {
     "data": {
      "text/html": "<div>\n<style scoped>\n    .dataframe tbody tr th:only-of-type {\n        vertical-align: middle;\n    }\n\n    .dataframe tbody tr th {\n        vertical-align: top;\n    }\n\n    .dataframe thead th {\n        text-align: right;\n    }\n</style>\n<table border=\"1\" class=\"dataframe\">\n  <thead>\n    <tr style=\"text-align: right;\">\n      <th></th>\n      <th>FeelsLikeC</th>\n      <th>FeelsLikeF</th>\n      <th>astronomy</th>\n      <th>avgtempC</th>\n      <th>avgtempF</th>\n      <th>cloudcover</th>\n      <th>date</th>\n      <th>hourly</th>\n      <th>humidity</th>\n      <th>maxtempC</th>\n      <th>...</th>\n      <th>pressureInches</th>\n      <th>sunHour</th>\n      <th>temp_C</th>\n      <th>temp_F</th>\n      <th>totalSnow_cm</th>\n      <th>uvIndex</th>\n      <th>winddir16Point</th>\n      <th>winddirDegree</th>\n      <th>windspeedKmph</th>\n      <th>windspeedMiles</th>\n    </tr>\n  </thead>\n  <tbody>\n    <tr>\n      <th>0</th>\n      <td>30</td>\n      <td>87</td>\n      <td>NaN</td>\n      <td>NaN</td>\n      <td>NaN</td>\n      <td>50</td>\n      <td>NaN</td>\n      <td>NaN</td>\n      <td>33</td>\n      <td>NaN</td>\n      <td>...</td>\n      <td>30</td>\n      <td>NaN</td>\n      <td>31</td>\n      <td>88</td>\n      <td>NaN</td>\n      <td>11</td>\n      <td>E</td>\n      <td>100</td>\n      <td>13</td>\n      <td>8</td>\n    </tr>\n    <tr>\n      <th>0</th>\n      <td>NaN</td>\n      <td>NaN</td>\n      <td>[{'sunrise': '06:10 AM', 'sunset': '06:32 PM',...</td>\n      <td>29</td>\n      <td>84</td>\n      <td>NaN</td>\n      <td>2020-04-10</td>\n      <td>[{'time': '0', 'tempC': '26', 'tempF': '79', '...</td>\n      <td>NaN</td>\n      <td>33</td>\n      <td>...</td>\n      <td>NaN</td>\n      <td>10.2</td>\n      <td>NaN</td>\n      <td>NaN</td>\n      <td>0.0</td>\n      <td>11</td>\n      <td>NaN</td>\n      <td>NaN</td>\n      <td>NaN</td>\n      <td>NaN</td>\n    </tr>\n  </tbody>\n</table>\n<p>2 rows × 26 columns</p>\n</div>",
      "text/plain": "  FeelsLikeC FeelsLikeF                                          astronomy  \\\n0         30         87                                                NaN   \n0        NaN        NaN  [{'sunrise': '06:10 AM', 'sunset': '06:32 PM',...   \n\n  avgtempC avgtempF cloudcover        date  \\\n0      NaN      NaN         50         NaN   \n0       29       84        NaN  2020-04-10   \n\n                                              hourly humidity maxtempC  \\\n0                                                NaN       33      NaN   \n0  [{'time': '0', 'tempC': '26', 'tempF': '79', '...      NaN       33   \n\n       ...       pressureInches sunHour temp_C temp_F totalSnow_cm uvIndex  \\\n0      ...                   30     NaN     31     88          NaN      11   \n0      ...                  NaN    10.2    NaN    NaN          0.0      11   \n\n  winddir16Point winddirDegree windspeedKmph windspeedMiles  \n0              E           100            13              8  \n0            NaN           NaN           NaN            NaN  \n\n[2 rows x 26 columns]"
     },
     "execution_count": 90,
     "metadata": {},
     "output_type": "execute_result"
    }
   ],
   "source": [
    "import requests\n",
    "import pandas as pd\n",
    "import json\n",
    "from pandas.io.json import json_normalize\n",
    "\n",
    "# response=requests.get(\"http://api.openweathermap.org/data/2.5/onecall?lat=30.489772&lon=-99.771335&lang=zh_cn\")\n",
    "apiKey=\"f4d79744fef7500fbb77a6bcbd5e49e8\"\n",
    "#response=requests.get(\"http://api.worldweatheronline.com/premium/v1/weather.ashx?key=8014ab803b504020a2b120259201004 &q=bengaluru&format=json&num_of_days=1\")\n",
    "\n",
    "#print(response.json())\n",
    "with open(\"data.json\") as f:\n",
    "    jsonData=json.load(f)\n",
    "# print(jsonData[\"data\"])\n",
    "oneLevel=jsonData[\"data\"]\n",
    "# print(oneLevel['current_condition'])\n",
    "# dataFrame=pd.DataFrame.from_dict(oneLevel[\"weather\"],orient=\"index\")\n",
    "# print(jsonData[\"data\"][\"current_condition\"][0])\n",
    "twoLevel=oneLevel[\"weather\"][0]\n",
    "# print(twoLevel)\n",
    "df=pd.DataFrame(oneLevel[\"current_condition\"][0])\n",
    "curCondFrame=pd.DataFrame(jsonData[\"data\"][\"current_condition\"][0])\n",
    "# print(pd.DataFrame(jsonData[\"data\"][\"weather\"]))\n",
    "weatherFrame=pd.DataFrame(jsonData[\"data\"][\"weather\"])\n",
    "# weatherFrame\n",
    "frames=pd.concat([curCondFrame,weatherFrame])\n",
    "frames\n",
    "frames.drop([\"observation_time\",\"weatherIconUrl\",\"weatherDesc\",\"weatherCode\",\"visibility\",\"visibilityMiles\"],axis=1)\n",
    "\n",
    "# twoLevel[0]\n",
    "# print(twoLevel[0])\n",
    "# df=pd.DataFrame(twoLevel[0])\n",
    "\n",
    "#  pd.DataFrame.from_dict(dataFrame[\"weather\"])\n",
    "\n",
    "\n"
   ]
  },
  {
   "cell_type": "code",
   "execution_count": 36,
   "metadata": {},
   "outputs": [
    {
     "name": "stdout",
     "output_type": "stream",
     "text": "<module 'pandas' from 'C:\\\\Users\\\\prathap\\\\AppData\\\\Local\\\\Programs\\\\Python\\\\Python36\\\\lib\\\\site-packages\\\\pandas\\\\__init__.py'>\n"
    }
   ],
   "source": [
    "print(pd)"
   ]
  },
  {
   "cell_type": "code",
   "execution_count": null,
   "metadata": {},
   "outputs": [],
   "source": [
    "jsonString = json.dumps(jsonData, separators=(',', ':'))\n",
    "#print(jsonString)\n",
    "# print(type(jsonString))\n",
    "data = json.loads(jsonString)\n",
    "# print(data)\n",
    "jsonDataFrame=json_normalize(data['data'])\n",
    "print(jsonDataFrame.info())"
   ]
  },
  {
   "cell_type": "code",
   "execution_count": null,
   "metadata": {},
   "outputs": [],
   "source": [
    "\n"
   ]
  }
 ]
}